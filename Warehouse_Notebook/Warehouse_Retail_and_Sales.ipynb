{
 "cells": [
  {
   "cell_type": "markdown",
   "id": "8f76d2ef-bfd3-4760-b7c1-fe2a31680639",
   "metadata": {},
   "source": [
    "# Warehouse Retail and Sales - EDA"
   ]
  },
  {
   "cell_type": "code",
   "execution_count": 1,
   "id": "8cdf519a-1669-467f-9432-a89054cd71b9",
   "metadata": {
    "tags": []
   },
   "outputs": [],
   "source": [
    "# Importing libraries\n",
    "import pandas as pd"
   ]
  },
  {
   "cell_type": "code",
   "execution_count": 2,
   "id": "41ced9e9-b227-4681-a760-c6e74e75ee6e",
   "metadata": {
    "tags": []
   },
   "outputs": [
    {
     "data": {
      "text/html": [
       "<div>\n",
       "<style scoped>\n",
       "    .dataframe tbody tr th:only-of-type {\n",
       "        vertical-align: middle;\n",
       "    }\n",
       "\n",
       "    .dataframe tbody tr th {\n",
       "        vertical-align: top;\n",
       "    }\n",
       "\n",
       "    .dataframe thead th {\n",
       "        text-align: right;\n",
       "    }\n",
       "</style>\n",
       "<table border=\"1\" class=\"dataframe\">\n",
       "  <thead>\n",
       "    <tr style=\"text-align: right;\">\n",
       "      <th></th>\n",
       "      <th>YEAR</th>\n",
       "      <th>MONTH</th>\n",
       "      <th>SUPPLIER</th>\n",
       "      <th>ITEM CODE</th>\n",
       "      <th>ITEM DESCRIPTION</th>\n",
       "      <th>ITEM TYPE</th>\n",
       "      <th>RETAIL SALES</th>\n",
       "      <th>RETAIL TRANSFERS</th>\n",
       "      <th>WAREHOUSE SALES</th>\n",
       "    </tr>\n",
       "  </thead>\n",
       "  <tbody>\n",
       "    <tr>\n",
       "      <th>0</th>\n",
       "      <td>2020</td>\n",
       "      <td>1</td>\n",
       "      <td>REPUBLIC NATIONAL DISTRIBUTING CO</td>\n",
       "      <td>100009</td>\n",
       "      <td>BOOTLEG RED - 750ML</td>\n",
       "      <td>WINE</td>\n",
       "      <td>0.00</td>\n",
       "      <td>0.0</td>\n",
       "      <td>2.0</td>\n",
       "    </tr>\n",
       "    <tr>\n",
       "      <th>1</th>\n",
       "      <td>2020</td>\n",
       "      <td>1</td>\n",
       "      <td>PWSWN INC</td>\n",
       "      <td>100024</td>\n",
       "      <td>MOMENT DE PLAISIR - 750ML</td>\n",
       "      <td>WINE</td>\n",
       "      <td>0.00</td>\n",
       "      <td>1.0</td>\n",
       "      <td>4.0</td>\n",
       "    </tr>\n",
       "    <tr>\n",
       "      <th>2</th>\n",
       "      <td>2020</td>\n",
       "      <td>1</td>\n",
       "      <td>RELIABLE CHURCHILL LLLP</td>\n",
       "      <td>1001</td>\n",
       "      <td>S SMITH ORGANIC PEAR CIDER - 18.7OZ</td>\n",
       "      <td>BEER</td>\n",
       "      <td>0.00</td>\n",
       "      <td>0.0</td>\n",
       "      <td>1.0</td>\n",
       "    </tr>\n",
       "    <tr>\n",
       "      <th>3</th>\n",
       "      <td>2020</td>\n",
       "      <td>1</td>\n",
       "      <td>LANTERNA DISTRIBUTORS INC</td>\n",
       "      <td>100145</td>\n",
       "      <td>SCHLINK HAUS KABINETT - 750ML</td>\n",
       "      <td>WINE</td>\n",
       "      <td>0.00</td>\n",
       "      <td>0.0</td>\n",
       "      <td>1.0</td>\n",
       "    </tr>\n",
       "    <tr>\n",
       "      <th>4</th>\n",
       "      <td>2020</td>\n",
       "      <td>1</td>\n",
       "      <td>DIONYSOS IMPORTS INC</td>\n",
       "      <td>100293</td>\n",
       "      <td>SANTORINI GAVALA WHITE - 750ML</td>\n",
       "      <td>WINE</td>\n",
       "      <td>0.82</td>\n",
       "      <td>0.0</td>\n",
       "      <td>0.0</td>\n",
       "    </tr>\n",
       "    <tr>\n",
       "      <th>5</th>\n",
       "      <td>2020</td>\n",
       "      <td>1</td>\n",
       "      <td>KYSELA PERE ET FILS LTD</td>\n",
       "      <td>100641</td>\n",
       "      <td>CORTENOVA VENETO P/GRIG - 750ML</td>\n",
       "      <td>WINE</td>\n",
       "      <td>2.76</td>\n",
       "      <td>0.0</td>\n",
       "      <td>6.0</td>\n",
       "    </tr>\n",
       "    <tr>\n",
       "      <th>6</th>\n",
       "      <td>2020</td>\n",
       "      <td>1</td>\n",
       "      <td>SANTA MARGHERITA USA INC</td>\n",
       "      <td>100749</td>\n",
       "      <td>SANTA MARGHERITA P/GRIG ALTO - 375ML</td>\n",
       "      <td>WINE</td>\n",
       "      <td>0.08</td>\n",
       "      <td>1.0</td>\n",
       "      <td>1.0</td>\n",
       "    </tr>\n",
       "    <tr>\n",
       "      <th>7</th>\n",
       "      <td>2020</td>\n",
       "      <td>1</td>\n",
       "      <td>BROWN-FORMAN BEVERAGES WORLDWIDE</td>\n",
       "      <td>1008</td>\n",
       "      <td>JACK DANIELS COUNTRY COCKTAIL SOUTHERN PEACH -...</td>\n",
       "      <td>BEER</td>\n",
       "      <td>0.00</td>\n",
       "      <td>0.0</td>\n",
       "      <td>2.0</td>\n",
       "    </tr>\n",
       "    <tr>\n",
       "      <th>8</th>\n",
       "      <td>2020</td>\n",
       "      <td>1</td>\n",
       "      <td>JIM BEAM BRANDS CO</td>\n",
       "      <td>10103</td>\n",
       "      <td>KNOB CREEK BOURBON 9YR - 100P - 375ML</td>\n",
       "      <td>LIQUOR</td>\n",
       "      <td>6.41</td>\n",
       "      <td>4.0</td>\n",
       "      <td>0.0</td>\n",
       "    </tr>\n",
       "    <tr>\n",
       "      <th>9</th>\n",
       "      <td>2020</td>\n",
       "      <td>1</td>\n",
       "      <td>INTERNATIONAL CELLARS LLC</td>\n",
       "      <td>101117</td>\n",
       "      <td>KSARA CAB - 750ML</td>\n",
       "      <td>WINE</td>\n",
       "      <td>0.33</td>\n",
       "      <td>1.0</td>\n",
       "      <td>2.0</td>\n",
       "    </tr>\n",
       "  </tbody>\n",
       "</table>\n",
       "</div>"
      ],
      "text/plain": [
       "   YEAR  MONTH                           SUPPLIER ITEM CODE  \\\n",
       "0  2020      1  REPUBLIC NATIONAL DISTRIBUTING CO    100009   \n",
       "1  2020      1                          PWSWN INC    100024   \n",
       "2  2020      1            RELIABLE CHURCHILL LLLP      1001   \n",
       "3  2020      1          LANTERNA DISTRIBUTORS INC    100145   \n",
       "4  2020      1               DIONYSOS IMPORTS INC    100293   \n",
       "5  2020      1            KYSELA PERE ET FILS LTD    100641   \n",
       "6  2020      1           SANTA MARGHERITA USA INC    100749   \n",
       "7  2020      1   BROWN-FORMAN BEVERAGES WORLDWIDE      1008   \n",
       "8  2020      1                 JIM BEAM BRANDS CO     10103   \n",
       "9  2020      1          INTERNATIONAL CELLARS LLC    101117   \n",
       "\n",
       "                                    ITEM DESCRIPTION ITEM TYPE  RETAIL SALES  \\\n",
       "0                                BOOTLEG RED - 750ML      WINE          0.00   \n",
       "1                          MOMENT DE PLAISIR - 750ML      WINE          0.00   \n",
       "2                S SMITH ORGANIC PEAR CIDER - 18.7OZ      BEER          0.00   \n",
       "3                      SCHLINK HAUS KABINETT - 750ML      WINE          0.00   \n",
       "4                     SANTORINI GAVALA WHITE - 750ML      WINE          0.82   \n",
       "5                    CORTENOVA VENETO P/GRIG - 750ML      WINE          2.76   \n",
       "6               SANTA MARGHERITA P/GRIG ALTO - 375ML      WINE          0.08   \n",
       "7  JACK DANIELS COUNTRY COCKTAIL SOUTHERN PEACH -...      BEER          0.00   \n",
       "8              KNOB CREEK BOURBON 9YR - 100P - 375ML    LIQUOR          6.41   \n",
       "9                                  KSARA CAB - 750ML      WINE          0.33   \n",
       "\n",
       "   RETAIL TRANSFERS  WAREHOUSE SALES  \n",
       "0               0.0              2.0  \n",
       "1               1.0              4.0  \n",
       "2               0.0              1.0  \n",
       "3               0.0              1.0  \n",
       "4               0.0              0.0  \n",
       "5               0.0              6.0  \n",
       "6               1.0              1.0  \n",
       "7               0.0              2.0  \n",
       "8               4.0              0.0  \n",
       "9               1.0              2.0  "
      ]
     },
     "execution_count": 2,
     "metadata": {},
     "output_type": "execute_result"
    }
   ],
   "source": [
    "# Reading csv file\n",
    "df_warehouse = pd.read_csv(\"Warehouse_and_Retail_Sales.csv\")\n",
    "df_warehouse.head(10)"
   ]
  },
  {
   "cell_type": "code",
   "execution_count": 3,
   "id": "cd154251-3c8f-44d5-8bc0-2920a3ec75e8",
   "metadata": {
    "tags": []
   },
   "outputs": [
    {
     "name": "stdout",
     "output_type": "stream",
     "text": [
      "Total number of data count: 307645\n"
     ]
    }
   ],
   "source": [
    "# total de dados gravados\n",
    "print(f\"Total number of data count: {len(df_warehouse)}\")"
   ]
  },
  {
   "cell_type": "code",
   "execution_count": 4,
   "id": "6b874264-ea42-4522-8b38-b5b9a6b2937b",
   "metadata": {
    "tags": []
   },
   "outputs": [
    {
     "name": "stdout",
     "output_type": "stream",
     "text": [
      "<class 'pandas.core.frame.DataFrame'>\n",
      "RangeIndex: 307645 entries, 0 to 307644\n",
      "Data columns (total 9 columns):\n",
      " #   Column            Non-Null Count   Dtype  \n",
      "---  ------            --------------   -----  \n",
      " 0   YEAR              307645 non-null  int64  \n",
      " 1   MONTH             307645 non-null  int64  \n",
      " 2   SUPPLIER          307478 non-null  object \n",
      " 3   ITEM CODE         307645 non-null  object \n",
      " 4   ITEM DESCRIPTION  307645 non-null  object \n",
      " 5   ITEM TYPE         307644 non-null  object \n",
      " 6   RETAIL SALES      307642 non-null  float64\n",
      " 7   RETAIL TRANSFERS  307645 non-null  float64\n",
      " 8   WAREHOUSE SALES   307645 non-null  float64\n",
      "dtypes: float64(3), int64(2), object(4)\n",
      "memory usage: 21.1+ MB\n"
     ]
    }
   ],
   "source": [
    "df_warehouse.info()"
   ]
  },
  {
   "cell_type": "code",
   "execution_count": 5,
   "id": "3871523d-1c71-498d-b392-14df6b6e0bfb",
   "metadata": {
    "tags": []
   },
   "outputs": [],
   "source": [
    "df_warehouse.rename(columns={\"YEAR\":\"Year\",\"MONTH\":\"Month\",\"SUPPLIER\":\"Supplier\",\n",
    "                                           \"ITEM CODE\":\"Item_code\",\"ITEM DESCRIPTION\":\"Item_description\",\n",
    "                                           \"ITEM TYPE\":\"Item_type\",\"RETAIL SALES\":\"Retail_sales\",\"RETAIL TRANSFERS\":\"Retail_transfers\",\n",
    "                                           \"WAREHOUSE SALES\":\"Warehouse_sales\"}, inplace=True)"
   ]
  },
  {
   "cell_type": "code",
   "execution_count": 6,
   "id": "5b3e7de6-3030-4229-89ce-b15153aeff88",
   "metadata": {
    "tags": []
   },
   "outputs": [
    {
     "data": {
      "text/html": [
       "<div>\n",
       "<style scoped>\n",
       "    .dataframe tbody tr th:only-of-type {\n",
       "        vertical-align: middle;\n",
       "    }\n",
       "\n",
       "    .dataframe tbody tr th {\n",
       "        vertical-align: top;\n",
       "    }\n",
       "\n",
       "    .dataframe thead th {\n",
       "        text-align: right;\n",
       "    }\n",
       "</style>\n",
       "<table border=\"1\" class=\"dataframe\">\n",
       "  <thead>\n",
       "    <tr style=\"text-align: right;\">\n",
       "      <th></th>\n",
       "      <th>Year</th>\n",
       "      <th>Month</th>\n",
       "      <th>Supplier</th>\n",
       "      <th>Item_code</th>\n",
       "      <th>Item_description</th>\n",
       "      <th>Item_type</th>\n",
       "      <th>Retail_sales</th>\n",
       "      <th>Retail_transfers</th>\n",
       "      <th>Warehouse_sales</th>\n",
       "    </tr>\n",
       "  </thead>\n",
       "  <tbody>\n",
       "    <tr>\n",
       "      <th>0</th>\n",
       "      <td>2020</td>\n",
       "      <td>1</td>\n",
       "      <td>REPUBLIC NATIONAL DISTRIBUTING CO</td>\n",
       "      <td>100009</td>\n",
       "      <td>BOOTLEG RED - 750ML</td>\n",
       "      <td>WINE</td>\n",
       "      <td>0.00</td>\n",
       "      <td>0.0</td>\n",
       "      <td>2.0</td>\n",
       "    </tr>\n",
       "    <tr>\n",
       "      <th>1</th>\n",
       "      <td>2020</td>\n",
       "      <td>1</td>\n",
       "      <td>PWSWN INC</td>\n",
       "      <td>100024</td>\n",
       "      <td>MOMENT DE PLAISIR - 750ML</td>\n",
       "      <td>WINE</td>\n",
       "      <td>0.00</td>\n",
       "      <td>1.0</td>\n",
       "      <td>4.0</td>\n",
       "    </tr>\n",
       "    <tr>\n",
       "      <th>2</th>\n",
       "      <td>2020</td>\n",
       "      <td>1</td>\n",
       "      <td>RELIABLE CHURCHILL LLLP</td>\n",
       "      <td>1001</td>\n",
       "      <td>S SMITH ORGANIC PEAR CIDER - 18.7OZ</td>\n",
       "      <td>BEER</td>\n",
       "      <td>0.00</td>\n",
       "      <td>0.0</td>\n",
       "      <td>1.0</td>\n",
       "    </tr>\n",
       "    <tr>\n",
       "      <th>3</th>\n",
       "      <td>2020</td>\n",
       "      <td>1</td>\n",
       "      <td>LANTERNA DISTRIBUTORS INC</td>\n",
       "      <td>100145</td>\n",
       "      <td>SCHLINK HAUS KABINETT - 750ML</td>\n",
       "      <td>WINE</td>\n",
       "      <td>0.00</td>\n",
       "      <td>0.0</td>\n",
       "      <td>1.0</td>\n",
       "    </tr>\n",
       "    <tr>\n",
       "      <th>4</th>\n",
       "      <td>2020</td>\n",
       "      <td>1</td>\n",
       "      <td>DIONYSOS IMPORTS INC</td>\n",
       "      <td>100293</td>\n",
       "      <td>SANTORINI GAVALA WHITE - 750ML</td>\n",
       "      <td>WINE</td>\n",
       "      <td>0.82</td>\n",
       "      <td>0.0</td>\n",
       "      <td>0.0</td>\n",
       "    </tr>\n",
       "    <tr>\n",
       "      <th>...</th>\n",
       "      <td>...</td>\n",
       "      <td>...</td>\n",
       "      <td>...</td>\n",
       "      <td>...</td>\n",
       "      <td>...</td>\n",
       "      <td>...</td>\n",
       "      <td>...</td>\n",
       "      <td>...</td>\n",
       "      <td>...</td>\n",
       "    </tr>\n",
       "    <tr>\n",
       "      <th>307640</th>\n",
       "      <td>2020</td>\n",
       "      <td>9</td>\n",
       "      <td>BOSTON BEER CORPORATION</td>\n",
       "      <td>98868</td>\n",
       "      <td>SAM ADAMS OCTOBERFEST 1/6K</td>\n",
       "      <td>KEGS</td>\n",
       "      <td>0.00</td>\n",
       "      <td>0.0</td>\n",
       "      <td>54.0</td>\n",
       "    </tr>\n",
       "    <tr>\n",
       "      <th>307641</th>\n",
       "      <td>2020</td>\n",
       "      <td>9</td>\n",
       "      <td>GLOBAL OCEAN AND AIR CARGO SERVICES</td>\n",
       "      <td>98884</td>\n",
       "      <td>HARAR BEER 4/6NR - 11.2OZ</td>\n",
       "      <td>BEER</td>\n",
       "      <td>1.50</td>\n",
       "      <td>1.0</td>\n",
       "      <td>8.0</td>\n",
       "    </tr>\n",
       "    <tr>\n",
       "      <th>307642</th>\n",
       "      <td>2020</td>\n",
       "      <td>9</td>\n",
       "      <td>HEINEKEN USA</td>\n",
       "      <td>98906</td>\n",
       "      <td>DOS EQUIS LAGER 1/2K</td>\n",
       "      <td>KEGS</td>\n",
       "      <td>0.00</td>\n",
       "      <td>0.0</td>\n",
       "      <td>22.0</td>\n",
       "    </tr>\n",
       "    <tr>\n",
       "      <th>307643</th>\n",
       "      <td>2020</td>\n",
       "      <td>9</td>\n",
       "      <td>RELIABLE CHURCHILL LLLP</td>\n",
       "      <td>98914</td>\n",
       "      <td>LINDEMANS KRIEK NR - 25.4OZ</td>\n",
       "      <td>BEER</td>\n",
       "      <td>0.00</td>\n",
       "      <td>0.0</td>\n",
       "      <td>4.0</td>\n",
       "    </tr>\n",
       "    <tr>\n",
       "      <th>307644</th>\n",
       "      <td>2020</td>\n",
       "      <td>9</td>\n",
       "      <td>CONSTANTINE WINES INC</td>\n",
       "      <td>98930</td>\n",
       "      <td>ARIS GREEK LAGER 4/6NR - 11OZ</td>\n",
       "      <td>BEER</td>\n",
       "      <td>0.00</td>\n",
       "      <td>0.0</td>\n",
       "      <td>0.0</td>\n",
       "    </tr>\n",
       "  </tbody>\n",
       "</table>\n",
       "<p>307645 rows × 9 columns</p>\n",
       "</div>"
      ],
      "text/plain": [
       "        Year  Month                             Supplier Item_code  \\\n",
       "0       2020      1    REPUBLIC NATIONAL DISTRIBUTING CO    100009   \n",
       "1       2020      1                            PWSWN INC    100024   \n",
       "2       2020      1              RELIABLE CHURCHILL LLLP      1001   \n",
       "3       2020      1            LANTERNA DISTRIBUTORS INC    100145   \n",
       "4       2020      1                 DIONYSOS IMPORTS INC    100293   \n",
       "...      ...    ...                                  ...       ...   \n",
       "307640  2020      9              BOSTON BEER CORPORATION     98868   \n",
       "307641  2020      9  GLOBAL OCEAN AND AIR CARGO SERVICES     98884   \n",
       "307642  2020      9                         HEINEKEN USA     98906   \n",
       "307643  2020      9              RELIABLE CHURCHILL LLLP     98914   \n",
       "307644  2020      9                CONSTANTINE WINES INC     98930   \n",
       "\n",
       "                           Item_description Item_type  Retail_sales  \\\n",
       "0                       BOOTLEG RED - 750ML      WINE          0.00   \n",
       "1                 MOMENT DE PLAISIR - 750ML      WINE          0.00   \n",
       "2       S SMITH ORGANIC PEAR CIDER - 18.7OZ      BEER          0.00   \n",
       "3             SCHLINK HAUS KABINETT - 750ML      WINE          0.00   \n",
       "4            SANTORINI GAVALA WHITE - 750ML      WINE          0.82   \n",
       "...                                     ...       ...           ...   \n",
       "307640           SAM ADAMS OCTOBERFEST 1/6K      KEGS          0.00   \n",
       "307641            HARAR BEER 4/6NR - 11.2OZ      BEER          1.50   \n",
       "307642                 DOS EQUIS LAGER 1/2K      KEGS          0.00   \n",
       "307643          LINDEMANS KRIEK NR - 25.4OZ      BEER          0.00   \n",
       "307644        ARIS GREEK LAGER 4/6NR - 11OZ      BEER          0.00   \n",
       "\n",
       "        Retail_transfers  Warehouse_sales  \n",
       "0                    0.0              2.0  \n",
       "1                    1.0              4.0  \n",
       "2                    0.0              1.0  \n",
       "3                    0.0              1.0  \n",
       "4                    0.0              0.0  \n",
       "...                  ...              ...  \n",
       "307640               0.0             54.0  \n",
       "307641               1.0              8.0  \n",
       "307642               0.0             22.0  \n",
       "307643               0.0              4.0  \n",
       "307644               0.0              0.0  \n",
       "\n",
       "[307645 rows x 9 columns]"
      ]
     },
     "execution_count": 6,
     "metadata": {},
     "output_type": "execute_result"
    }
   ],
   "source": [
    "df_warehouse"
   ]
  },
  {
   "cell_type": "code",
   "execution_count": 7,
   "id": "4e480d96-182b-4509-99ec-f7443310e09b",
   "metadata": {
    "tags": []
   },
   "outputs": [],
   "source": [
    "# descartando valores NaN\n",
    "df_warehouse = df_warehouse.dropna()"
   ]
  },
  {
   "cell_type": "code",
   "execution_count": 8,
   "id": "a3e3bd06-a598-41e9-9765-3f2b2253ec0c",
   "metadata": {
    "tags": []
   },
   "outputs": [
    {
     "data": {
      "text/plain": [
       "Item_type\n",
       "WINE            187640\n",
       "LIQUOR           64910\n",
       "BEER             42413\n",
       "KEGS             10146\n",
       "NON-ALCOHOL       1899\n",
       "STR_SUPPLIES       318\n",
       "REF                 79\n",
       "DUNNAGE             72\n",
       "Name: count, dtype: int64"
      ]
     },
     "execution_count": 8,
     "metadata": {},
     "output_type": "execute_result"
    }
   ],
   "source": [
    "# contagem de valores de cada categoria\n",
    "df_warehouse[\"Item_type\"].value_counts()"
   ]
  },
  {
   "cell_type": "code",
   "execution_count": 9,
   "id": "57dc8e5e-01e2-4b78-a97b-574c24da8135",
   "metadata": {
    "tags": []
   },
   "outputs": [
    {
     "data": {
      "text/plain": [
       "Index(['WINE', 'LIQUOR', 'BEER', 'KEGS', 'NON-ALCOHOL', 'STR_SUPPLIES', 'REF',\n",
       "       'DUNNAGE'],\n",
       "      dtype='object', name='Item_type')"
      ]
     },
     "execution_count": 9,
     "metadata": {},
     "output_type": "execute_result"
    }
   ],
   "source": [
    "# plotando indices da coluna item_types\n",
    "df_warehouse[\"Item_type\"].value_counts().index"
   ]
  },
  {
   "cell_type": "markdown",
   "id": "cdf027e4-abe5-4a6f-a2e0-1139c6136bbf",
   "metadata": {
    "tags": []
   },
   "source": [
    "## Data Visualization"
   ]
  },
  {
   "cell_type": "code",
   "execution_count": 10,
   "id": "0b979ff2-0f61-4d4b-a8bd-b2db788a28b8",
   "metadata": {
    "tags": []
   },
   "outputs": [],
   "source": [
    "import matplotlib.pyplot as plt\n",
    "import seaborn as sn\n",
    "%matplotlib inline"
   ]
  },
  {
   "cell_type": "code",
   "execution_count": 11,
   "id": "4995c622-17b6-4dc1-9737-5ecab354a7b8",
   "metadata": {
    "tags": []
   },
   "outputs": [
    {
     "name": "stderr",
     "output_type": "stream",
     "text": [
      "/home/gabriel/.local/lib/python3.10/site-packages/seaborn/_decorators.py:36: FutureWarning: Pass the following variable as a keyword arg: x. From version 0.12, the only valid positional argument will be `data`, and passing other arguments without an explicit keyword will result in an error or misinterpretation.\n",
      "  warnings.warn(\n"
     ]
    },
    {
     "data": {
      "text/plain": [
       "Text(0.5, 0, 'Categorias')"
      ]
     },
     "execution_count": 11,
     "metadata": {},
     "output_type": "execute_result"
    },
    {
     "data": {
      "image/png": "[encoded data removed]",
      "text/plain": [
       "<Figure size 1800x500 with 1 Axes>"
      ]
     },
     "metadata": {},
     "output_type": "display_data"
    }
   ],
   "source": [
    "# Visualizando quantidade de categorias de bebidas\n",
    "ItemCount = df_warehouse[\"Item_type\"].value_counts()\n",
    "\n",
    "plt.figure(figsize=(18,5))\n",
    "sn.countplot(df_warehouse['Item_type'],order = df_warehouse['Item_type'].value_counts().index)\n",
    "plt.title('Contagem total por categoria \\n')\n",
    "plt.ylabel('Total da contagem')\n",
    "plt.xlabel('Categorias')"
   ]
  },
  {
   "cell_type": "markdown",
   "id": "f4d1c8c2-d7d3-4a7b-a7e6-77198f41d66a",
   "metadata": {},
   "source": [
    "**Destaque**\n",
    "    \n",
    "Com o conhecimento da contagem total das categorias, podemos criar um ranking para as categorias mais consumidas. Desta forma, destacamos um ranking de top 5 (Vinhos, Licores, Cervejas, Barris e Bebidas não alcólicas), descartando o restante dos dados não relevantes para a pesquisa."
   ]
  },
  {
   "cell_type": "markdown",
   "id": "8db4200c-1130-4cad-96d1-2bccfcde695f",
   "metadata": {
    "tags": []
   },
   "source": [
    "<h2>Maiores fornecedores<h2/>"
   ]
  },
  {
   "cell_type": "code",
   "execution_count": 13,
   "id": "b992bb44-d31d-49bf-9d80-cf4684b1f72f",
   "metadata": {
    "tags": []
   },
   "outputs": [
    {
     "name": "stdout",
     "output_type": "stream",
     "text": [
      "Number of registered suppliers:  396\n"
     ]
    }
   ],
   "source": [
    "# quantidade de fornecedores de bedidads disponivel\n",
    "# neste caso terão 396 fornece\n",
    "quant_sup = df_warehouse['Supplier'].unique()\n",
    "print(\"Number of registered suppliers: \", len(quant_sup))"
   ]
  },
  {
   "cell_type": "code",
   "execution_count": 14,
   "id": "221f94c9-8eb7-455e-973b-1cb5e96c537c",
   "metadata": {},
   "outputs": [
    {
     "data": {
      "text/plain": [
       "Supplier\n",
       "REPUBLIC NATIONAL DISTRIBUTING CO       20994\n",
       "LEGENDS LTD                             13634\n",
       "SOUTHERN GLAZERS WINE AND SPIRITS       11720\n",
       "E & J GALLO WINERY                      10816\n",
       "THE COUNTRY VINTNER, LLC DBA WINEBOW    10669\n",
       "dtype: int64"
      ]
     },
     "execution_count": 14,
     "metadata": {},
     "output_type": "execute_result"
    }
   ],
   "source": [
    "# maiores fornecedores de bebidas no ranking top 5 (nlargest = 5 by default)\n",
    "supp_groupby = df_warehouse.groupby('Supplier').size().nlargest()\n",
    "supp_groupby"
   ]
  },
  {
   "cell_type": "code",
   "execution_count": 15,
   "id": "a7467c89-10f7-4723-97d5-b5680ac58578",
   "metadata": {},
   "outputs": [
    {
     "name": "stdout",
     "output_type": "stream",
     "text": [
      "BEST SUPPLIERS\n",
      "=====================================\n",
      "Top supplier of WINE: Supplier\n",
      "REPUBLIC NATIONAL DISTRIBUTING CO    16864\n",
      "Name: count, dtype: int64\n",
      "\n",
      "Top supplier of LIQUOR: Supplier\n",
      "DIAGEO NORTH AMERICA INC    6358\n",
      "Name: count, dtype: int64\n",
      "\n",
      "Top supplier of BEER: Supplier\n",
      "LEGENDS LTD    10479\n",
      "Name: count, dtype: int64\n",
      "\n",
      "Top supplier of KEGS: Supplier\n",
      "LEGENDS LTD    2549\n",
      "Name: count, dtype: int64\n",
      "\n",
      "Top supplier of NON-ALCOHOL: Supplier\n",
      "AMERICAN BEVERAGE MARKETERS    416\n",
      "Name: count, dtype: int64\n",
      "\n",
      "=====================================\n"
     ]
    }
   ],
   "source": [
    "# ranking de maiores fornecedores por categoria de bebidas\n",
    "list_item = ['WINE', 'LIQUOR', 'BEER', 'KEGS', 'NON-ALCOHOL']\n",
    "\n",
    "print(\"BEST SUPPLIERS\")\n",
    "print('=====================================')\n",
    "\n",
    "for i in list_item:\n",
    "    best_supplier = df_warehouse[df_warehouse['Item_type'] == i]['Supplier'].value_counts()[0:1]\n",
    "    print(f\"Top supplier of {i}: {best_supplier}\\n\")\n",
    "\n",
    "print('=====================================')"
   ]
  },
  {
   "cell_type": "markdown",
   "id": "b972556e-547e-4343-a4c7-43b20eed70c6",
   "metadata": {
    "tags": []
   },
   "source": [
    "<h2>Venda de produtos<h2/>"
   ]
  },
  {
   "cell_type": "code",
   "execution_count": 16,
   "id": "090c394e-b622-4c16-b1d6-541f29cb908e",
   "metadata": {
    "tags": []
   },
   "outputs": [
    {
     "data": {
      "text/plain": [
       "Item_type  Item_description                         \n",
       "WINE       BURGANS ALBARINO - 750ML                     44\n",
       "           SANTA JULIA TORRONTES SUSTAINABLE - 750ML    39\n",
       "           LA VIELLE FERME CDV RED - 750ML              35\n",
       "           LINGANORE BLACK RAVEN - 750ML                34\n",
       "LIQUOR     MCCLINTOCK HERITAGE WHITE WHISKEY - 750ML    33\n",
       "           DAVID NICHOLSON 1843 BOURBON -750ML          32\n",
       "WINE       CA LUNGHETTA P/GRIG - 750ML                  32\n",
       "           LAS PERDICES VIOG - 750ML                    32\n",
       "           MARIETTA OV RED - 750ML                      32\n",
       "           DONA PAULA LOS CARDOS MAL - 750ML            31\n",
       "Name: Item_description, dtype: int64"
      ]
     },
     "execution_count": 16,
     "metadata": {},
     "output_type": "execute_result"
    }
   ],
   "source": [
    "# pequena amostra de bebidas por categoria\n",
    "groups = df_warehouse.groupby(['Item_type', 'Item_description'])\n",
    "groups['Item_description'].size().nlargest(10)"
   ]
  },
  {
   "cell_type": "code",
   "execution_count": 17,
   "id": "e783e138-c411-4db2-9f31-cb63c2ea3a54",
   "metadata": {
    "tags": []
   },
   "outputs": [
    {
     "data": {
      "text/plain": [
       "44"
      ]
     },
     "execution_count": 17,
     "metadata": {},
     "output_type": "execute_result"
    }
   ],
   "source": [
    "# verificando os registros de quantidade vendida de uma determinada bebida\n",
    "burgans = df_warehouse[df_warehouse['Item_description'] == 'BURGANS ALBARINO - 750ML']\n",
    "len(burgans)"
   ]
  },
  {
   "cell_type": "code",
   "execution_count": 18,
   "id": "60a5c34d-c98f-472e-b078-7dbcae19b887",
   "metadata": {
    "tags": []
   },
   "outputs": [
    {
     "name": "stdout",
     "output_type": "stream",
     "text": [
      "Biggest sold WINE: Item_description\n",
      "BURGANS ALBARINO - 750ML    44\n",
      "Name: count, dtype: int64\n",
      "\n",
      "Biggest sold BEER: Item_description\n",
      "CHIMAY CING CENTS WH CAP 4/6NR - 11.2OZ    24\n",
      "Name: count, dtype: int64\n",
      "\n",
      "Biggest sold LIQUOR: Item_description\n",
      "MCCLINTOCK HERITAGE WHITE WHISKEY - 750ML    33\n",
      "Name: count, dtype: int64\n",
      "\n",
      "Biggest sold KEGS: Item_description\n",
      "COORS LT 1/2K    24\n",
      "Name: count, dtype: int64\n",
      "\n",
      "Biggest sold NON-ALCOHOL: Item_description\n",
      "STIRRINGS LEMON DROP COCKTAIL 6/CS - 750ML    25\n",
      "Name: count, dtype: int64\n",
      "\n"
     ]
    }
   ],
   "source": [
    "# maiores bebidas vendidas por categoria\n",
    "\n",
    "big_wine_sold = df_warehouse[df_warehouse['Item_type'] == 'WINE']['Item_description'].value_counts()[0:1]\n",
    "big_beer_sold = df_warehouse[df_warehouse['Item_type'] == 'BEER']['Item_description'].value_counts()[0:1]\n",
    "big_liquor_sold = df_warehouse[df_warehouse['Item_type'] == 'LIQUOR']['Item_description'].value_counts()[0:1]\n",
    "big_kegs_sold = df_warehouse[df_warehouse['Item_type'] == 'KEGS']['Item_description'].value_counts()[0:1]\n",
    "big_non_alcohol_sold = df_warehouse[df_warehouse['Item_type'] == 'NON-ALCOHOL']['Item_description'].value_counts()[0:1]\n",
    "\n",
    "print(f\"Biggest sold WINE: {big_wine_sold}\\n\")\n",
    "print(f\"Biggest sold BEER: {big_beer_sold}\\n\")\n",
    "print(f\"Biggest sold LIQUOR: {big_liquor_sold}\\n\")\n",
    "print(f\"Biggest sold KEGS: {big_kegs_sold}\\n\")\n",
    "print(f\"Biggest sold NON-ALCOHOL: {big_non_alcohol_sold}\\n\")"
   ]
  },
  {
   "cell_type": "markdown",
   "id": "249066a5-66ca-4b3a-a863-c7a845745bbc",
   "metadata": {},
   "source": [
    "## Conclusão \n",
    "\n",
    "1. Visualização da quantidade de bebidas por categoria\n",
    "2. Destacando as categorias mais relevantes em vendas (Vinhos, Cervejas, Licores, Barris e Bebidas Não alcólicas)\n",
    "3. Ranking Top 5 de maiores fornecedores\n",
    "4. Ranking de maiores fornecedores de bebidas por categoria\n",
    "5. Maiores bebidas vendidas por categoria\n",
    "\n",
    "Este projeto conclui uma análise surpeficial dos dados de varejo e vendas de bebidas, sendo apenas destinada para fins didáticos."
   ]
  }
 ],
 "metadata": {
  "kernelspec": {
   "display_name": "Python 3 (ipykernel)",
   "language": "python",
   "name": "python3"
  },
  "language_info": {
   "codemirror_mode": {
    "name": "ipython",
    "version": 3
   },
   "file_extension": ".py",
   "mimetype": "text/x-python",
   "name": "python",
   "nbconvert_exporter": "python",
   "pygments_lexer": "ipython3",
   "version": "3.10.12"
  }
 },
 "nbformat": 4,
 "nbformat_minor": 5
}
